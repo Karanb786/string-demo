{
 "cells": [
  {
   "cell_type": "code",
   "execution_count": 1,
   "metadata": {},
   "outputs": [
    {
     "name": "stdout",
     "output_type": "stream",
     "text": [
      "a.compareTo(b): 32\n",
      "a.compareToIgnoreCase(b): 0\n",
      "b.compareToIgnoreCase(c): 6\n",
      "c.compareToIgnoreCase(b): -6\n"
     ]
    }
   ],
   "source": [
    "//compareTo vs compareToIgnoreCase\n",
    "String a = \"hello world\";\n",
    "String b = \"Hello World\";\n",
    "String c = \"Hello\";\n",
    "System.out.println(\"a.compareTo(b): \" + a.compareTo(b));\n",
    "System.out.println(\"a.compareToIgnoreCase(b): \" + a.compareToIgnoreCase(b));\n",
    "System.out.println(\"b.compareToIgnoreCase(c): \" + b.compareToIgnoreCase(c));\n",
    "System.out.println(\"c.compareToIgnoreCase(b): \" + c.compareToIgnoreCase(b));"
   ]
  },
  {
   "cell_type": "code",
   "execution_count": 2,
   "metadata": {},
   "outputs": [
    {
     "name": "stdout",
     "output_type": "stream",
     "text": [
      "a.equals(b): false\n",
      "a.equalsIgnoreCase(b): true\n",
      "b.equalsIgnoreCase(c): false\n"
     ]
    }
   ],
   "source": [
    "//equals vs equalsIgnoreCase\n",
    "String a = \"hello world\";\n",
    "String b = \"Hello World\";\n",
    "String c = \"Hello\";\n",
    "System.out.println(\"a.equals(b): \" + a.equals(b));\n",
    "System.out.println(\"a.equalsIgnoreCase(b): \" + a.equalsIgnoreCase(b));\n",
    "System.out.println(\"b.equalsIgnoreCase(c): \" + b.equalsIgnoreCase(c));"
   ]
  },
  {
   "cell_type": "code",
   "execution_count": 3,
   "metadata": {},
   "outputs": [
    {
     "name": "stdout",
     "output_type": "stream",
     "text": [
      "dlrow olleh"
     ]
    }
   ],
   "source": [
    "//charAt,length\n",
    "String a = \"hello world\";\n",
    "for(int i=a.length()-1;i>=0;i--){\n",
    "    System.out.print(a.charAt(i));\n",
    "}"
   ]
  },
  {
   "cell_type": "code",
   "execution_count": 4,
   "metadata": {},
   "outputs": [
    {
     "name": "stdout",
     "output_type": "stream",
     "text": [
      "a.substring(3): 3456789\n",
      "a.substring(2,7): 23456\n"
     ]
    }
   ],
   "source": [
    "//substring\n",
    "String a = \"0123456789\";\n",
    "System.out.println(\"a.substring(3): \"+ a.substring(3));\n",
    "System.out.println(\"a.substring(2,7): \"+ a.substring(2,7));"
   ]
  },
  {
   "cell_type": "code",
   "execution_count": 5,
   "metadata": {},
   "outputs": [
    {
     "name": "stdout",
     "output_type": "stream",
     "text": [
      "a.replace(\"c\",\"java\"): i love java. java is fast. java is easy\n",
      "a.replaceAll(\"c\",\"java\"): i love java. java is fast. java is easy\n"
     ]
    }
   ],
   "source": [
    "//replace, replaceAll\n",
    "String a = \"i love c. c is fast. c is easy\";\n",
    "System.out.println(\"a.replace(\\\"c\\\",\\\"java\\\"): \"+ a.replace(\"c\",\"java\"));\n",
    "System.out.println(\"a.replaceAll(\\\"c\\\",\\\"java\\\"): \"+ a.replaceAll(\"c\",\"java\"));"
   ]
  },
  {
   "cell_type": "code",
   "execution_count": 6,
   "metadata": {},
   "outputs": [
    {
     "name": "stdout",
     "output_type": "stream",
     "text": [
      "Split by space: [i, love, java., java, loves, me.]\n",
      "Split by java: [i love , . ,  loves me.]\n"
     ]
    }
   ],
   "source": [
    "//split\n",
    "String a = \"i love java. java loves me.\"\n",
    "System.out.println(\"Split by space: \" + Arrays.toString(a.split(\" \")));\n",
    "System.out.println(\"Split by java: \" + Arrays.toString(a.split(\"java\")));"
   ]
  },
  {
   "cell_type": "code",
   "execution_count": 7,
   "metadata": {},
   "outputs": [
    {
     "name": "stdout",
     "output_type": "stream",
     "text": [
      "a.concat(b): Hello World\n"
     ]
    }
   ],
   "source": [
    "//concat\n",
    "String a = \"Hello\";\n",
    "String b = \"World\";\n",
    "System.out.println(\"a.concat(b): \"+a.concat(\" \").concat(b));"
   ]
  },
  {
   "cell_type": "code",
   "execution_count": 8,
   "metadata": {},
   "outputs": [
    {
     "name": "stdout",
     "output_type": "stream",
     "text": [
      "beginSpace.trim(): \"java\"\n",
      "trailSpace.trim(): \"java\"\n",
      "spaces.trim(): \"j  a  v  a\"\n"
     ]
    }
   ],
   "source": [
    "//trim\n",
    "String beginSpace = \"     java\";\n",
    "String trailSpace = \"java     \";\n",
    "String spaces = \"  j  a  v  a  \";\n",
    "System.out.println(\"beginSpace.trim(): \\\"\"+beginSpace.trim()+\"\\\"\");\n",
    "System.out.println(\"trailSpace.trim(): \\\"\"+trailSpace.trim() +\"\\\"\");\n",
    "System.out.println(\"spaces.trim(): \\\"\"+spaces.trim()+\"\\\"\");"
   ]
  },
  {
   "cell_type": "code",
   "execution_count": 9,
   "metadata": {},
   "outputs": [
    {
     "name": "stdout",
     "output_type": "stream",
     "text": [
      "result: bcdefgh\n"
     ]
    }
   ],
   "source": [
    "//toCharArray\n",
    "String a = \"abcdefg\";\n",
    "char[] aAsArray = a.toCharArray();\n",
    "for(int i=0;i<aAsArray.length;i++){\n",
    "    aAsArray[i]+=1;\n",
    "}\n",
    "System.out.println(\"result: \"+ new String(aAsArray));"
   ]
  },
  {
   "cell_type": "code",
   "execution_count": 10,
   "metadata": {},
   "outputs": [
    {
     "name": "stdout",
     "output_type": "stream",
     "text": [
      "a.toUpperCase(): JAVA\n",
      "a.toLowerCase(): java\n"
     ]
    }
   ],
   "source": [
    "//toUpperCase, toLowerCase\n",
    "String a = \"java\";\n",
    "System.out.println(\"a.toUpperCase(): \"+ a.toUpperCase());\n",
    "System.out.println(\"a.toLowerCase(): \"+ a.toLowerCase());"
   ]
  },
  {
   "cell_type": "code",
   "execution_count": 11,
   "metadata": {},
   "outputs": [
    {
     "name": "stdout",
     "output_type": "stream",
     "text": [
      "a.startsWith(\"java\"): false\n",
      "a.startsWith(\"java\",6): false\n",
      "a.startsWith(\"java\",7): true\n",
      "a.endsWith(\"java\"): false\n",
      "a.endsWith(\"java\"): true\n"
     ]
    }
   ],
   "source": [
    "//startsWith, endsWith\n",
    "String a = \"i love java. java loves me. java is awesome.\";\n",
    "//          01234567\n",
    "System.out.println(\"a.startsWith(\\\"java\\\"): \"+ a.startsWith(\"java\"));\n",
    "System.out.println(\"a.startsWith(\\\"java\\\",6): \"+ a.startsWith(\"java\",6));\n",
    "System.out.println(\"a.startsWith(\\\"java\\\",7): \"+ a.startsWith(\"java\",7));\n",
    "System.out.println(\"a.endsWith(\\\"java\\\"): \"+ a.endsWith(\"java\"));\n",
    "System.out.println(\"a.endsWith(\\\"java\\\"): \"+ a.endsWith(\".\"));"
   ]
  },
  {
   "cell_type": "code",
   "execution_count": 12,
   "metadata": {},
   "outputs": [
    {
     "name": "stdout",
     "output_type": "stream",
     "text": [
      "a.indexOf(\"java\"): 7\n",
      "a.indexOf(\"java\",7): 7\n",
      "a.indexOf(\"java\",8): 13\n",
      "a.lastIndexOf(\"java\"): 28\n",
      "a.lastIndexOf(\"java\",28): 28\n",
      "a.lastIndexOf(\"java\",27): 13\n"
     ]
    }
   ],
   "source": [
    "//indexOf, lastIndexOf\n",
    "String a = \"i love java. java loves me. java is awesome.\";\n",
    "//          012345678\n",
    "System.out.println(\"a.indexOf(\\\"java\\\"): \"+ a.indexOf(\"java\"));\n",
    "System.out.println(\"a.indexOf(\\\"java\\\",7): \"+ a.indexOf(\"java\",7));\n",
    "System.out.println(\"a.indexOf(\\\"java\\\",8): \"+ a.indexOf(\"java\",8));\n",
    "System.out.println(\"a.lastIndexOf(\\\"java\\\"): \"+ a.lastIndexOf(\"java\"));\n",
    "System.out.println(\"a.lastIndexOf(\\\"java\\\",28): \"+ a.lastIndexOf(\"java\",28));\n",
    "System.out.println(\"a.lastIndexOf(\\\"java\\\",27): \"+ a.lastIndexOf(\"java\",27));"
   ]
  },
  {
   "cell_type": "code",
   "execution_count": 13,
   "metadata": {},
   "outputs": [
    {
     "name": "stdout",
     "output_type": "stream",
     "text": [
      "12 234    45 45    00045\n",
      "** *** ***** ***** *****\n",
      "12.123400 12.12 12.12340 Hello\n",
      "**.****** **.** **.***** *****\n"
     ]
    }
   ],
   "source": [
    "//String.format\n",
    "String formated = String.format(\"%d %d %5d %-5d %05d\",12,234,45,45,45);\n",
    "System.out.println(formated)\n",
    "System.out.println(\"** *** ***** ***** *****\");\n",
    "formated = String.format(\"%f %.2f %2.5f %s\",12.1234,12.1234,12.1234,\"Hello\");\n",
    "System.out.println(formated)\n",
    "System.out.println(\"**.****** **.** **.***** *****\");"
   ]
  },
  {
   "cell_type": "code",
   "execution_count": 14,
   "metadata": {},
   "outputs": [
    {
     "name": "stdout",
     "output_type": "stream",
     "text": [
      "join by comma: i,love,java\n",
      "join by ##: i##love##java\n"
     ]
    }
   ],
   "source": [
    "//String.join\n",
    "System.out.println(\"join by comma: \"+ String.join(\",\",\"i\",\"love\",\"java\"));\n",
    "System.out.println(\"join by ##: \"+ String.join(\"##\",\"i\",\"love\",\"java\"));"
   ]
  },
  {
   "cell_type": "code",
   "execution_count": 15,
   "metadata": {},
   "outputs": [
    {
     "name": "stdout",
     "output_type": "stream",
     "text": [
      "true\n",
      "false\n",
      "true\n",
      "false\n"
     ]
    }
   ],
   "source": [
    "System.out.println(\"09121234567\".matches(\"09(12|33)\\\\d{7}\"));\n",
    "System.out.println(\"09201234567\".matches(\"09(12|33)\\\\d{7}\"));\n",
    "System.out.println(\"1396-12-21\".matches(\"\\\\d{4}-\\\\d{2}-\\\\d{2}\"));\n",
    "System.out.println(\"1396:12:21\".matches(\"\\\\d{4}-\\\\d{2}-\\\\d{2}\"));"
   ]
  },
  {
   "cell_type": "code",
   "execution_count": null,
   "metadata": {},
   "outputs": [],
   "source": []
  }
 ],
 "metadata": {
  "kernelspec": {
   "display_name": "SciJava",
   "language": "groovy",
   "name": "scijava"
  },
  "language_info": {
   "codemirror_mode": "groovy",
   "file_extension": "",
   "mimetype": "",
   "name": "scijava",
   "nbconverter_exporter": "",
   "pygments_lexer": "groovy",
   "version": "1.0"
  }
 },
 "nbformat": 4,
 "nbformat_minor": 2
}
